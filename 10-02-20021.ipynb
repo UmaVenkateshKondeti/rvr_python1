{
 "cells": [
  {
   "cell_type": "code",
   "execution_count": 1,
   "metadata": {},
   "outputs": [],
   "source": [
    "import re"
   ]
  },
  {
   "cell_type": "code",
   "execution_count": 12,
   "metadata": {},
   "outputs": [
    {
     "name": "stdout",
     "output_type": "stream",
     "text": [
      "apssdc@gmail.com\n",
      "apssdcrvr@apssdc.in\n"
     ]
    }
   ],
   "source": [
    "#mail id pattern\n",
    "li=['apssdc@gmail.com','apssdcrvr@apssdc.in','prasannaraj.m@apssdc.in','rvrjc123.123@gmail.com','raj#$%%^^@gmail.com','PRASANNA123.@gmail.co.in']\n",
    "for i in li:\n",
    "    if re.findall('^[a-z0-9]+?[a-z0-9]+[@]\\w+[.]\\w{2,3}$',i):\n",
    "         print(i)"
   ]
  },
  {
   "cell_type": "markdown",
   "metadata": {},
   "source": [
    "# File handling techniques using python\n",
    "#file-collection of data\n",
    "#store the data\n",
    "\n",
    "\n",
    "###file operations\n",
    "#open a file\n",
    "#read or write a file\n",
    "#appending a data into file\n",
    "#close a file\n"
   ]
  },
  {
   "cell_type": "markdown",
   "metadata": {},
   "source": [
    "-open('filename','mode')\n",
    "#Read()-read the data in a file\n",
    "#Write()-to write a data into a file\n",
    "#Append()-to add the data into a file\n",
    "#Close()-close the file\n",
    "###modes\n",
    "#read mode-r\n",
    "#write down-w\n",
    "#append mode-a"
   ]
  },
  {
   "cell_type": "code",
   "execution_count": 18,
   "metadata": {},
   "outputs": [
    {
     "name": "stdout",
     "output_type": "stream",
     "text": [
      "<_io.TextIOWrapper name='C:\\\\Users\\\\APSSDC-RVRJC\\\\Desktop\\\\Github Files\\\\venkatesh.txt' mode='r' encoding='cp1252'>\n"
     ]
    }
   ],
   "source": [
    "#open a file\n",
    "f=open('C:\\\\Users\\\\APSSDC-RVRJC\\\\Desktop\\\\Github Files\\\\venkatesh.txt','r')\n",
    "print(f)"
   ]
  },
  {
   "cell_type": "code",
   "execution_count": 20,
   "metadata": {},
   "outputs": [
    {
     "name": "stdout",
     "output_type": "stream",
     "text": [
      "nani\n"
     ]
    }
   ],
   "source": [
    "#read the data\n",
    "f=open('C:\\\\Users\\\\APSSDC-RVRJC\\\\Desktop\\\\Github Files\\\\venkatesh.txt','r')\n",
    "f1=f.read()\n",
    "print(f1)"
   ]
  },
  {
   "cell_type": "code",
   "execution_count": 21,
   "metadata": {},
   "outputs": [
    {
     "name": "stdout",
     "output_type": "stream",
     "text": [
      "a=5\n",
      "b=10\n",
      "print(a+b)\n"
     ]
    }
   ],
   "source": [
    "f=open('abc.py','r')\n",
    "f1=f.read()\n",
    "print(f1)"
   ]
  },
  {
   "cell_type": "code",
   "execution_count": 25,
   "metadata": {},
   "outputs": [
    {
     "name": "stdout",
     "output_type": "stream",
     "text": [
      "4\n"
     ]
    }
   ],
   "source": [
    "#write\n",
    "f=open('C:\\\\Users\\\\APSSDC-RVRJC\\\\Desktop\\\\Github Files\\\\venkatesh.txt','w')\n",
    "data=\"NANI\"\n",
    "f1=f.write(data)\n",
    "f.close()\n",
    "print(f1)"
   ]
  },
  {
   "cell_type": "code",
   "execution_count": 29,
   "metadata": {},
   "outputs": [
    {
     "data": {
      "text/plain": [
       "'Nani'"
      ]
     },
     "execution_count": 29,
     "metadata": {},
     "output_type": "execute_result"
    }
   ],
   "source": [
    "\n",
    "f=open('C:\\\\Users\\\\APSSDC-RVRJC\\\\Desktop\\\\Github Files\\\\venkatesh.txt')\n",
    "f2=f.read()\n",
    "f2"
   ]
  },
  {
   "cell_type": "code",
   "execution_count": 31,
   "metadata": {},
   "outputs": [
    {
     "name": "stdout",
     "output_type": "stream",
     "text": [
      "7\n"
     ]
    }
   ],
   "source": [
    "#append\n",
    "f=open('C:\\\\Users\\\\APSSDC-RVRJC\\\\Desktop\\\\Github Files\\\\venkatesh.txt','a')\n",
    "data=\"kondeti\"\n",
    "f1=f.write(data)\n",
    "f.close()\n",
    "print(f1)"
   ]
  },
  {
   "cell_type": "code",
   "execution_count": 32,
   "metadata": {},
   "outputs": [
    {
     "name": "stdout",
     "output_type": "stream",
     "text": [
      "append data intom file\n"
     ]
    }
   ],
   "source": [
    "#append\n",
    "f=open('C:\\\\Users\\\\APSSDC-RVRJC\\\\Desktop\\\\Github Files\\\\venkatesh.txt','a')\n",
    "f3=f.write('RVR')\n",
    "f.close()\n",
    "print('append data intom file')"
   ]
  },
  {
   "cell_type": "code",
   "execution_count": 35,
   "metadata": {},
   "outputs": [
    {
     "name": "stdout",
     "output_type": "stream",
     "text": [
      "uma venkatesh\n",
      "y19ec095\n",
      "ece\n",
      "umavenkateshkondeti@gmail.com\n"
     ]
    }
   ],
   "source": [
    "f=open('demo.java','r')\n",
    "f1=f.read()\n",
    "print(f1)"
   ]
  },
  {
   "cell_type": "code",
   "execution_count": 37,
   "metadata": {},
   "outputs": [
    {
     "name": "stdout",
     "output_type": "stream",
     "text": [
      "7\n"
     ]
    }
   ],
   "source": [
    "f=open('demo.java','r')\n",
    "\n",
    "print(f1)"
   ]
  },
  {
   "cell_type": "code",
   "execution_count": 38,
   "metadata": {},
   "outputs": [],
   "source": [
    "#with keyword(without close a file)\n",
    "#syntax:with open('filename','a')"
   ]
  },
  {
   "cell_type": "code",
   "execution_count": 40,
   "metadata": {},
   "outputs": [
    {
     "name": "stdout",
     "output_type": "stream",
     "text": [
      "append data succes\n"
     ]
    }
   ],
   "source": [
    "with open('demo.java','a')as raj:\n",
    "    data='apssdc'\n",
    "    raj.write(data)\n",
    "    print('append data succes')"
   ]
  },
  {
   "cell_type": "code",
   "execution_count": 43,
   "metadata": {},
   "outputs": [
    {
     "ename": "OSError",
     "evalue": "[Errno 22] Invalid argument: 'http:\\\\localhost:8888\\\\files/Downloads\\\\manual.pdf'",
     "output_type": "error",
     "traceback": [
      "\u001b[1;31m---------------------------------------------------------------------------\u001b[0m",
      "\u001b[1;31mOSError\u001b[0m                                   Traceback (most recent call last)",
      "\u001b[1;32m<ipython-input-43-ff35835fdaf1>\u001b[0m in \u001b[0;36m<module>\u001b[1;34m\u001b[0m\n\u001b[1;32m----> 1\u001b[1;33m \u001b[0mf\u001b[0m\u001b[1;33m=\u001b[0m\u001b[0mopen\u001b[0m\u001b[1;33m(\u001b[0m\u001b[1;34m'http:\\\\localhost:8888\\\\files/Downloads\\\\manual.pdf'\u001b[0m\u001b[1;33m,\u001b[0m\u001b[1;34m'r'\u001b[0m\u001b[1;33m)\u001b[0m\u001b[1;33m\u001b[0m\u001b[1;33m\u001b[0m\u001b[0m\n\u001b[0m\u001b[0;32m      2\u001b[0m \u001b[0mf1\u001b[0m\u001b[1;33m=\u001b[0m\u001b[0mf\u001b[0m\u001b[1;33m.\u001b[0m\u001b[0mread\u001b[0m\u001b[1;33m(\u001b[0m\u001b[1;33m)\u001b[0m\u001b[1;33m\u001b[0m\u001b[1;33m\u001b[0m\u001b[0m\n\u001b[0;32m      3\u001b[0m \u001b[0mprint\u001b[0m\u001b[1;33m(\u001b[0m\u001b[0mf1\u001b[0m\u001b[1;33m)\u001b[0m\u001b[1;33m\u001b[0m\u001b[1;33m\u001b[0m\u001b[0m\n",
      "\u001b[1;31mOSError\u001b[0m: [Errno 22] Invalid argument: 'http:\\\\localhost:8888\\\\files/Downloads\\\\manual.pdf'"
     ]
    }
   ],
   "source": [
    "f=open('http:\\\\localhost:8888\\\\files/Downloads\\\\manual.pdf','r')\n",
    "f1=f.read()\n",
    "print(f1)\n"
   ]
  },
  {
   "cell_type": "code",
   "execution_count": 1,
   "metadata": {},
   "outputs": [
    {
     "name": "stdout",
     "output_type": "stream",
     "text": [
      "Requirement already satisfied: pyPDF2 in c:\\users\\apssdc-rvrjc\\appdata\\local\\programs\\python\\python37\\lib\\site-packages (1.26.0)\n",
      "Note: you may need to restart the kernel to use updated packages.\n"
     ]
    },
    {
     "name": "stderr",
     "output_type": "stream",
     "text": [
      "You are using pip version 19.0.3, however version 21.0.1 is available.\n",
      "You should consider upgrading via the 'python -m pip install --upgrade pip' command.\n"
     ]
    }
   ],
   "source": [
    "pip install pyPDF2"
   ]
  },
  {
   "cell_type": "code",
   "execution_count": 3,
   "metadata": {},
   "outputs": [],
   "source": [
    "#Geek for geeks\n",
    "#java tutorial"
   ]
  },
  {
   "cell_type": "code",
   "execution_count": null,
   "metadata": {},
   "outputs": [],
   "source": []
  }
 ],
 "metadata": {
  "kernelspec": {
   "display_name": "Python 3",
   "language": "python",
   "name": "python3"
  },
  "language_info": {
   "codemirror_mode": {
    "name": "ipython",
    "version": 3
   },
   "file_extension": ".py",
   "mimetype": "text/x-python",
   "name": "python",
   "nbconvert_exporter": "python",
   "pygments_lexer": "ipython3",
   "version": "3.7.4"
  }
 },
 "nbformat": 4,
 "nbformat_minor": 2
}
