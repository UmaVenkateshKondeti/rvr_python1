{
 "cells": [
  {
   "cell_type": "code",
   "execution_count": 2,
   "metadata": {},
   "outputs": [
    {
     "name": "stdout",
     "output_type": "stream",
     "text": [
      "enter number:6\n",
      "perfect number\n"
     ]
    }
   ],
   "source": [
    "n=int(input('enter number:'))\n",
    "s=0\n",
    "for i in range(1,n):\n",
    "    if n%i==0:\n",
    "        s+=i\n",
    "if s==n:\n",
    "    print('perfect number')\n",
    "else:\n",
    "    print('not perfect')\n"
   ]
  },
  {
   "cell_type": "code",
   "execution_count": 5,
   "metadata": {},
   "outputs": [
    {
     "name": "stdout",
     "output_type": "stream",
     "text": [
      "enter table upto:5\n",
      "enter table length:5\n",
      "1 * 1 = 1\n",
      "1 * 2 = 2\n",
      "1 * 3 = 3\n",
      "1 * 4 = 4\n",
      "1 * 5 = 5\n",
      "2 * 1 = 2\n",
      "2 * 2 = 4\n",
      "2 * 3 = 6\n",
      "2 * 4 = 8\n",
      "2 * 5 = 10\n",
      "3 * 1 = 3\n",
      "3 * 2 = 6\n",
      "3 * 3 = 9\n",
      "3 * 4 = 12\n",
      "3 * 5 = 15\n",
      "4 * 1 = 4\n",
      "4 * 2 = 8\n",
      "4 * 3 = 12\n",
      "4 * 4 = 16\n",
      "4 * 5 = 20\n",
      "5 * 1 = 5\n",
      "5 * 2 = 10\n",
      "5 * 3 = 15\n",
      "5 * 4 = 20\n",
      "5 * 5 = 25\n"
     ]
    }
   ],
   "source": [
    "t=int(input('enter table upto:'))\n",
    "t_len=int(input('enter table length:'))\n",
    "for i in range(1,t+1):\n",
    "    for j in range(1,t_len+1):\n",
    "        print('{} * {} = {}'.format(i,j,i*j))\n",
    "        "
   ]
  },
  {
   "cell_type": "code",
   "execution_count": 7,
   "metadata": {},
   "outputs": [
    {
     "name": "stdout",
     "output_type": "stream",
     "text": [
      "10\n",
      "9\n",
      "8\n",
      "7\n",
      "6\n",
      "5\n",
      "4\n",
      "3\n",
      "2\n",
      "1\n"
     ]
    }
   ],
   "source": [
    "for i in range(10,0,-1):\n",
    "    print(i)\n"
   ]
  },
  {
   "cell_type": "code",
   "execution_count": 8,
   "metadata": {},
   "outputs": [
    {
     "name": "stdout",
     "output_type": "stream",
     "text": [
      "10 9 8 7 6 5 4 3 2 1 "
     ]
    }
   ],
   "source": [
    "i=10\n",
    "while i>0:\n",
    "    print(i,end = ' ')\n",
    "    i-=1\n",
    "    "
   ]
  },
  {
   "cell_type": "markdown",
   "metadata": {},
   "source": [
    "# Flow controls(jumping statements)\n",
    "#Break\n",
    "#continue"
   ]
  },
  {
   "cell_type": "code",
   "execution_count": 13,
   "metadata": {},
   "outputs": [
    {
     "name": "stdout",
     "output_type": "stream",
     "text": [
      "1 2 3 4 6 7 8 9 "
     ]
    }
   ],
   "source": [
    "for i in range(1,10):\n",
    "    if i==5:\n",
    "        continue\n",
    "    print(i,end= ' ')\n"
   ]
  },
  {
   "cell_type": "markdown",
   "metadata": {},
   "source": [
    "# Functions\n",
    "#block of code to perform some operations\n",
    "#uses:\n",
    "-code reusability\n",
    "-readability of programme\n",
    "-code reduce \n",
    "-time decreases\n",
    "#types of functions\n",
    "1.inbuilt/default functions\n",
    "    ex:print,sum,max,min,int\n",
    "2.user defined functions\n",
    "     1.function creation:\n",
    "        1.function declaration\n",
    "         syntax:def function name(arg)\n",
    "        2.function definition\n",
    "        statements\n",
    "     2.function calling:\n",
    "     by using function name\n",
    "3.special functions\n",
    "       ex:lamda,comphersions,iterators,map\n",
    "       \n",
    "       \n"
   ]
  },
  {
   "cell_type": "code",
   "execution_count": 15,
   "metadata": {},
   "outputs": [
    {
     "name": "stdout",
     "output_type": "stream",
     "text": [
      "9\n"
     ]
    }
   ],
   "source": [
    "#function creation\n",
    "def add(a,b):\n",
    "    print(a+b)\n",
    "add(4,5)"
   ]
  },
  {
   "cell_type": "code",
   "execution_count": 19,
   "metadata": {},
   "outputs": [
    {
     "name": "stdout",
     "output_type": "stream",
     "text": [
      "3\n"
     ]
    }
   ],
   "source": [
    "def sub(a,b):\n",
    "    print(a-b)\n",
    "sub(4,1)    "
   ]
  },
  {
   "cell_type": "markdown",
   "metadata": {},
   "source": [
    "# types of user defined functions:\n",
    "#based on return value\n",
    "1.without arg and without return value\n",
    "2.without arg and with return value\n",
    "3.with arg and without return value\n",
    "4.with arg and with return value"
   ]
  },
  {
   "cell_type": "code",
   "execution_count": 23,
   "metadata": {
    "scrolled": true
   },
   "outputs": [
    {
     "name": "stdout",
     "output_type": "stream",
     "text": [
      "enter n value:5\n",
      "number is factor of 10\n",
      "enter n value:5\n",
      "number is factor of 10\n",
      "None\n"
     ]
    }
   ],
   "source": [
    "#1.without arg and without return value\n",
    "def f1():\n",
    "    n=int(input('enter n value:'))\n",
    "    if 10%n==0:\n",
    "        print('number is factor of 10')\n",
    "    else:\n",
    "        print('number is not factor of 10')\n",
    "f1()\n",
    "n=f1()\n",
    "print(n)"
   ]
  },
  {
   "cell_type": "code",
   "execution_count": 25,
   "metadata": {},
   "outputs": [
    {
     "name": "stdout",
     "output_type": "stream",
     "text": [
      "enter n1 value1\n",
      "entre n2 value2\n",
      "addition is 3\n",
      "subtaction is -1\n",
      "multiplication is 2\n",
      "division is 0.5\n"
     ]
    }
   ],
   "source": [
    "#without arguement and with return value \n",
    "def f2():\n",
    "    n1=int(input('enter n1 value'))\n",
    "    n2=int(input('entre n2 value'))\n",
    "    return n1+n2,n1-n2,n1*n2,n1/n2\n",
    "add,sub,mul,div=f2()\n",
    "print('addition is',add)\n",
    "print('subtaction is',sub)\n",
    "print('multiplication is',mul)\n",
    "print('division is',div)\n",
    "    \n"
   ]
  },
  {
   "cell_type": "code",
   "execution_count": 27,
   "metadata": {},
   "outputs": [
    {
     "name": "stdout",
     "output_type": "stream",
     "text": [
      "enter n1 value5\n",
      "enter n2 value5\n",
      "addition is 10\n",
      "subtraction is 0\n",
      "multiplication is 25\n",
      "division is 1.0\n"
     ]
    }
   ],
   "source": [
    "#with arg and without return\n",
    "n1=int(input('enter n1 value'))\n",
    "n2=int(input('enter n2 value'))\n",
    "def f2(n1,n2):\n",
    "    print('addition is',n1+n2)\n",
    "    print('subtraction is',n1-n2)\n",
    "    print('multiplication is',n1*n2)\n",
    "    print('division is',n1/n2)\n",
    "f2(n1,n2)    \n",
    "    "
   ]
  },
  {
   "cell_type": "code",
   "execution_count": 30,
   "metadata": {},
   "outputs": [
    {
     "name": "stdout",
     "output_type": "stream",
     "text": [
      "enter n1 value10\n",
      "enter n2 value20\n",
      "addition is 30\n",
      "subtraction is -10\n",
      "multiplication is 200\n",
      "division is 0.5\n"
     ]
    }
   ],
   "source": [
    "n1=int(input('enter n1 value'))\n",
    "n2=int(input('enter n2 value'))\n",
    "def f2(n1,n2):\n",
    "     return n1+n2,n1-n2,n1*n2,n1/n2\n",
    "add,sub,mul,div=f2(n1,n2)    \n",
    "print('addition is',n1+n2)\n",
    "print('subtraction is',n1-n2)\n",
    "print('multiplication is',n1*n2)\n",
    "print('division is',n1/n2)\n"
   ]
  },
  {
   "cell_type": "code",
   "execution_count": null,
   "metadata": {},
   "outputs": [],
   "source": []
  }
 ],
 "metadata": {
  "kernelspec": {
   "display_name": "Python 3",
   "language": "python",
   "name": "python3"
  },
  "language_info": {
   "codemirror_mode": {
    "name": "ipython",
    "version": 3
   },
   "file_extension": ".py",
   "mimetype": "text/x-python",
   "name": "python",
   "nbconvert_exporter": "python",
   "pygments_lexer": "ipython3",
   "version": "3.7.4"
  }
 },
 "nbformat": 4,
 "nbformat_minor": 2
}
